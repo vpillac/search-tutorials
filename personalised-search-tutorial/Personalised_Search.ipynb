{
 "cells": [
  {
   "cell_type": "raw",
   "metadata": {},
   "source": [
    "---\n",
    "title: Pesonalised Search Tutorial\n",
    "authors:\n",
    "- victor_pillac\n",
    "tags:\n",
    "- search\n",
    "- recommendation\n",
    "created_at: 2019-10-31\n",
    "updated_at: 2019-10-31\n",
    "tldr: Learn how to build a personalised search engine using embeddings from a recommendation model.\n",
    "---"
   ]
  },
  {
   "cell_type": "markdown",
   "metadata": {},
   "source": [
    "# Data\n",
    "- [Movie Lens 20m]( https://grouplens.org/datasets/movielens/20m/)\n",
    "- [Movie Lens 100k](https://grouplens.org/datasets/movielens/100k/)\n",
    "\n",
    "## Other datasets\n",
    "- [Goodreads Dataset](https://sites.google.com/eng.ucsd.edu/ucsdbookgraph/home)\n",
    "- [Download Dataset here](https://drive.google.com/a/redbubble.com/uc?id=196W2kDoZXRPjzbTjM6uvTidn6aTpsFnS)"
   ]
  },
  {
   "cell_type": "code",
   "execution_count": 1,
   "metadata": {},
   "outputs": [],
   "source": [
    "!pip install -q scikit-surprise elasticsearch progressbar2"
   ]
  },
  {
   "cell_type": "code",
   "execution_count": 2,
   "metadata": {},
   "outputs": [],
   "source": [
    "from zipfile import ZipFile\n",
    "import requests\n",
    "import os\n",
    "import json\n",
    "import pandas as pd\n",
    "from elasticsearch import Elasticsearch"
   ]
  },
  {
   "cell_type": "code",
   "execution_count": 3,
   "metadata": {},
   "outputs": [],
   "source": [
    "# ml_ds = \"ml-20m\"\n",
    "ml_ds = \"ml-100k\"\n",
    "if not os.path.exists(ml_ds):\n",
    "    print(f\"Downloading dataset {ml_ds} from movielens\")\n",
    "    url = f\"http://files.grouplens.org/datasets/movielens/{ml_ds}.zip\"\n",
    "    r = requests.get(url)\n",
    "    with open(f\"{ml_ds}.zip\", 'wb') as f:\n",
    "        f.write(r.content)\n",
    "    with ZipFile(f\"{ml_ds}.zip\", 'r') as zipObj:\n",
    "        zipObj.extractall()"
   ]
  },
  {
   "cell_type": "markdown",
   "metadata": {},
   "source": [
    "# Train the recommendation model"
   ]
  },
  {
   "cell_type": "code",
   "execution_count": 4,
   "metadata": {},
   "outputs": [],
   "source": [
    "from surprise import SVD, Dataset, Reader\n",
    "from surprise.model_selection import cross_validate"
   ]
  },
  {
   "cell_type": "code",
   "execution_count": 5,
   "metadata": {},
   "outputs": [
    {
     "name": "stdout",
     "output_type": "stream",
     "text": [
      "196\t242\t3\t881250949\n",
      "186\t302\t3\t891717742\n",
      "22\t377\t1\t878887116\n",
      "244\t51\t2\t880606923\n",
      "166\t346\t1\t886397596\n",
      "298\t474\t4\t884182806\n",
      "115\t265\t2\t881171488\n",
      "253\t465\t5\t891628467\n",
      "305\t451\t3\t886324817\n",
      "6\t86\t3\t883603013\n"
     ]
    }
   ],
   "source": [
    "!head \"{ml_ds}/u.data\""
   ]
  },
  {
   "cell_type": "code",
   "execution_count": 6,
   "metadata": {},
   "outputs": [
    {
     "data": {
      "text/plain": [
       "<surprise.prediction_algorithms.matrix_factorization.SVD at 0x7f7d4b8fae20>"
      ]
     },
     "execution_count": 6,
     "metadata": {},
     "output_type": "execute_result"
    }
   ],
   "source": [
    "# Load the movielens-100k dataset (download it if needed).\n",
    "# Load the ratings\n",
    "ratings = pd.read_csv(f\"{ml_ds}/u.data\", sep='\\s+', header=None)\n",
    "ratings.columns = ['user id', 'item id', 'rating', 'timestamp']\n",
    "data = Dataset.load_from_df(ratings[['user id', 'item id', 'rating']], reader = Reader(rating_scale=(ratings.rating.max(), ratings.rating.max())))\n",
    "trainset = data.build_full_trainset()\n",
    "# Use the famous SVD algorithm.\n",
    "algo = SVD()\n",
    "\n",
    "algo.fit(trainset)"
   ]
  },
  {
   "cell_type": "code",
   "execution_count": 7,
   "metadata": {},
   "outputs": [
    {
     "name": "stdout",
     "output_type": "stream",
     "text": [
      "Shape of the embedding matrix (1682, 100)\n"
     ]
    }
   ],
   "source": [
    "embeddings = algo.qi\n",
    "print(\"Shape of the embedding matrix\", embeddings.shape)"
   ]
  },
  {
   "cell_type": "markdown",
   "metadata": {},
   "source": [
    "# Compute the embedding clusters"
   ]
  },
  {
   "cell_type": "code",
   "execution_count": 8,
   "metadata": {},
   "outputs": [],
   "source": [
    "from sklearn.cluster import KMeans, MiniBatchKMeans\n",
    "from progressbar import progressbar\n",
    "import numpy as np\n",
    "\n",
    "def compute_clusters(embeddings, subvector_dimension, n_clusters, stride_step=None, mini_batch=True, batch_size=100):\n",
    "    stride_step = subvector_dimension if stride_step is None else stride_step\n",
    "    strides = [(start, start+subvector_dimension) for start in range(0, embeddings.shape[1]-subvector_dimension+1, stride_step)]\n",
    "    n_subvectors = len(strides)\n",
    "    \n",
    "    clusters = np.zeros((embeddings.shape[0], n_subvectors))\n",
    "    for subvector, (start, end) in progressbar(enumerate(strides), max_value=n_subvectors):\n",
    "        X = embeddings[:,start:end]\n",
    "        if mini_batch:\n",
    "            kmeans = MiniBatchKMeans(n_clusters=n_clusters, batch_size=batch_size, random_state=0, verbose=0).fit(X)\n",
    "        else:\n",
    "            kmeans = KMeans(n_clusters=n_clusters, random_state=0, verbose=0).fit(X)\n",
    "        clusters[:, subvector] = kmeans.labels_\n",
    "    return clusters\n"
   ]
  },
  {
   "cell_type": "code",
   "execution_count": 9,
   "metadata": {},
   "outputs": [
    {
     "name": "stderr",
     "output_type": "stream",
     "text": [
      "100% (19 of 19) |########################| Elapsed Time: 0:00:34 Time:  0:00:34\n"
     ]
    },
    {
     "name": "stdout",
     "output_type": "stream",
     "text": [
      "Shape of the clusters matrix (1682, 19)\n"
     ]
    }
   ],
   "source": [
    "clusters = compute_clusters(embeddings, 10, 16, stride_step=5, mini_batch=False)\n",
    "print(\"Shape of the clusters matrix\", clusters.shape)"
   ]
  },
  {
   "cell_type": "code",
   "execution_count": 10,
   "metadata": {},
   "outputs": [
    {
     "data": {
      "text/html": [
       "<div>\n",
       "<style scoped>\n",
       "    .dataframe tbody tr th:only-of-type {\n",
       "        vertical-align: middle;\n",
       "    }\n",
       "\n",
       "    .dataframe tbody tr th {\n",
       "        vertical-align: top;\n",
       "    }\n",
       "\n",
       "    .dataframe thead th {\n",
       "        text-align: right;\n",
       "    }\n",
       "</style>\n",
       "<table border=\"1\" class=\"dataframe\">\n",
       "  <thead>\n",
       "    <tr style=\"text-align: right;\">\n",
       "      <th></th>\n",
       "      <th>embeddings</th>\n",
       "      <th>clusters</th>\n",
       "    </tr>\n",
       "    <tr>\n",
       "      <th>movie id</th>\n",
       "      <th></th>\n",
       "      <th></th>\n",
       "    </tr>\n",
       "  </thead>\n",
       "  <tbody>\n",
       "    <tr>\n",
       "      <th>242</th>\n",
       "      <td>[0.20782335757816314, 0.11365519436144282, -0....</td>\n",
       "      <td>[4.0, 4.0, 5.0, 0.0, 0.0, 12.0, 2.0, 2.0, 9.0,...</td>\n",
       "    </tr>\n",
       "    <tr>\n",
       "      <th>302</th>\n",
       "      <td>[-0.049309109275262566, -0.13062960131502072, ...</td>\n",
       "      <td>[10.0, 5.0, 2.0, 11.0, 0.0, 8.0, 12.0, 13.0, 7...</td>\n",
       "    </tr>\n",
       "    <tr>\n",
       "      <th>377</th>\n",
       "      <td>[-0.19234432910536006, 0.02594788200355742, -0...</td>\n",
       "      <td>[8.0, 13.0, 11.0, 4.0, 11.0, 14.0, 4.0, 12.0, ...</td>\n",
       "    </tr>\n",
       "    <tr>\n",
       "      <th>51</th>\n",
       "      <td>[0.06383749429437204, 0.14527807113499341, -0....</td>\n",
       "      <td>[3.0, 0.0, 12.0, 4.0, 13.0, 9.0, 13.0, 1.0, 10...</td>\n",
       "    </tr>\n",
       "    <tr>\n",
       "      <th>346</th>\n",
       "      <td>[0.12648971364219952, 0.018650557343776356, -0...</td>\n",
       "      <td>[6.0, 0.0, 12.0, 6.0, 2.0, 11.0, 8.0, 12.0, 9....</td>\n",
       "    </tr>\n",
       "  </tbody>\n",
       "</table>\n",
       "</div>"
      ],
      "text/plain": [
       "                                                 embeddings  \\\n",
       "movie id                                                      \n",
       "242       [0.20782335757816314, 0.11365519436144282, -0....   \n",
       "302       [-0.049309109275262566, -0.13062960131502072, ...   \n",
       "377       [-0.19234432910536006, 0.02594788200355742, -0...   \n",
       "51        [0.06383749429437204, 0.14527807113499341, -0....   \n",
       "346       [0.12648971364219952, 0.018650557343776356, -0...   \n",
       "\n",
       "                                                   clusters  \n",
       "movie id                                                     \n",
       "242       [4.0, 4.0, 5.0, 0.0, 0.0, 12.0, 2.0, 2.0, 9.0,...  \n",
       "302       [10.0, 5.0, 2.0, 11.0, 0.0, 8.0, 12.0, 13.0, 7...  \n",
       "377       [8.0, 13.0, 11.0, 4.0, 11.0, 14.0, 4.0, 12.0, ...  \n",
       "51        [3.0, 0.0, 12.0, 4.0, 13.0, 9.0, 13.0, 1.0, 10...  \n",
       "346       [6.0, 0.0, 12.0, 6.0, 2.0, 11.0, 8.0, 12.0, 9....  "
      ]
     },
     "execution_count": 10,
     "metadata": {},
     "output_type": "execute_result"
    }
   ],
   "source": [
    "# Convert map each embedding back to a movie\n",
    "item_ids = [trainset.to_raw_iid(i) for i in trainset.all_items()]\n",
    "embeddings_df = pd.DataFrame(data=zip(item_ids, embeddings, clusters))\n",
    "embeddings_df.columns = ['movie id', 'embeddings', 'clusters']\n",
    "embeddings_df.set_index('movie id', inplace=True)\n",
    "embeddings_df.head()"
   ]
  },
  {
   "cell_type": "markdown",
   "metadata": {},
   "source": [
    "# Index the documents in ES"
   ]
  },
  {
   "cell_type": "markdown",
   "metadata": {},
   "source": [
    "## Load the movie dataset"
   ]
  },
  {
   "cell_type": "code",
   "execution_count": 11,
   "metadata": {},
   "outputs": [
    {
     "name": "stdout",
     "output_type": "stream",
     "text": [
      "Shape of the items matrix (1682, 7)\n"
     ]
    },
    {
     "data": {
      "text/html": [
       "<div>\n",
       "<style scoped>\n",
       "    .dataframe tbody tr th:only-of-type {\n",
       "        vertical-align: middle;\n",
       "    }\n",
       "\n",
       "    .dataframe tbody tr th {\n",
       "        vertical-align: top;\n",
       "    }\n",
       "\n",
       "    .dataframe thead th {\n",
       "        text-align: right;\n",
       "    }\n",
       "</style>\n",
       "<table border=\"1\" class=\"dataframe\">\n",
       "  <thead>\n",
       "    <tr style=\"text-align: right;\">\n",
       "      <th></th>\n",
       "      <th>movie title</th>\n",
       "      <th>IMDb URL</th>\n",
       "      <th>Genre</th>\n",
       "      <th>avg rating</th>\n",
       "      <th>ratings</th>\n",
       "      <th>embeddings</th>\n",
       "      <th>clusters</th>\n",
       "    </tr>\n",
       "    <tr>\n",
       "      <th>movie id</th>\n",
       "      <th></th>\n",
       "      <th></th>\n",
       "      <th></th>\n",
       "      <th></th>\n",
       "      <th></th>\n",
       "      <th></th>\n",
       "      <th></th>\n",
       "    </tr>\n",
       "  </thead>\n",
       "  <tbody>\n",
       "    <tr>\n",
       "      <th>1</th>\n",
       "      <td>Toy Story (1995)</td>\n",
       "      <td>http://us.imdb.com/M/title-exact?Toy%20Story%2...</td>\n",
       "      <td>[Animation, Children's, Comedy]</td>\n",
       "      <td>3.878319</td>\n",
       "      <td>452</td>\n",
       "      <td>[0.12190266216256603, 0.2510029000553083, 0.07...</td>\n",
       "      <td>[14.0, 6.0, 8.0, 5.0, 12.0, 13.0, 2.0, 1.0, 6....</td>\n",
       "    </tr>\n",
       "    <tr>\n",
       "      <th>2</th>\n",
       "      <td>GoldenEye (1995)</td>\n",
       "      <td>http://us.imdb.com/M/title-exact?GoldenEye%20(...</td>\n",
       "      <td>[Action, Adventure, Thriller]</td>\n",
       "      <td>3.206107</td>\n",
       "      <td>131</td>\n",
       "      <td>[-0.03482466320014828, 0.13617556032065942, 0....</td>\n",
       "      <td>[4.0, 6.0, 9.0, 1.0, 3.0, 5.0, 5.0, 9.0, 14.0,...</td>\n",
       "    </tr>\n",
       "    <tr>\n",
       "      <th>3</th>\n",
       "      <td>Four Rooms (1995)</td>\n",
       "      <td>http://us.imdb.com/M/title-exact?Four%20Rooms%...</td>\n",
       "      <td>[Thriller]</td>\n",
       "      <td>3.033333</td>\n",
       "      <td>90</td>\n",
       "      <td>[-0.126453935516089, -0.17279759353164445, -0....</td>\n",
       "      <td>[11.0, 11.0, 3.0, 15.0, 9.0, 1.0, 11.0, 14.0, ...</td>\n",
       "    </tr>\n",
       "    <tr>\n",
       "      <th>4</th>\n",
       "      <td>Get Shorty (1995)</td>\n",
       "      <td>http://us.imdb.com/M/title-exact?Get%20Shorty%...</td>\n",
       "      <td>[Action, Comedy, Drama]</td>\n",
       "      <td>3.550239</td>\n",
       "      <td>209</td>\n",
       "      <td>[-0.0196448767405285, -0.22630784013334612, -0...</td>\n",
       "      <td>[10.0, 15.0, 2.0, 0.0, 9.0, 0.0, 1.0, 6.0, 1.0...</td>\n",
       "    </tr>\n",
       "    <tr>\n",
       "      <th>5</th>\n",
       "      <td>Copycat (1995)</td>\n",
       "      <td>http://us.imdb.com/M/title-exact?Copycat%20(1995)</td>\n",
       "      <td>[Crime, Drama, Thriller]</td>\n",
       "      <td>3.302326</td>\n",
       "      <td>86</td>\n",
       "      <td>[0.06427454306598854, -0.04722566274684215, -0...</td>\n",
       "      <td>[6.0, 11.0, 10.0, 12.0, 12.0, 12.0, 8.0, 9.0, ...</td>\n",
       "    </tr>\n",
       "  </tbody>\n",
       "</table>\n",
       "</div>"
      ],
      "text/plain": [
       "                movie title  \\\n",
       "movie id                      \n",
       "1          Toy Story (1995)   \n",
       "2          GoldenEye (1995)   \n",
       "3         Four Rooms (1995)   \n",
       "4         Get Shorty (1995)   \n",
       "5            Copycat (1995)   \n",
       "\n",
       "                                                   IMDb URL  \\\n",
       "movie id                                                      \n",
       "1         http://us.imdb.com/M/title-exact?Toy%20Story%2...   \n",
       "2         http://us.imdb.com/M/title-exact?GoldenEye%20(...   \n",
       "3         http://us.imdb.com/M/title-exact?Four%20Rooms%...   \n",
       "4         http://us.imdb.com/M/title-exact?Get%20Shorty%...   \n",
       "5         http://us.imdb.com/M/title-exact?Copycat%20(1995)   \n",
       "\n",
       "                                    Genre  avg rating  ratings  \\\n",
       "movie id                                                         \n",
       "1         [Animation, Children's, Comedy]    3.878319      452   \n",
       "2           [Action, Adventure, Thriller]    3.206107      131   \n",
       "3                              [Thriller]    3.033333       90   \n",
       "4                 [Action, Comedy, Drama]    3.550239      209   \n",
       "5                [Crime, Drama, Thriller]    3.302326       86   \n",
       "\n",
       "                                                 embeddings  \\\n",
       "movie id                                                      \n",
       "1         [0.12190266216256603, 0.2510029000553083, 0.07...   \n",
       "2         [-0.03482466320014828, 0.13617556032065942, 0....   \n",
       "3         [-0.126453935516089, -0.17279759353164445, -0....   \n",
       "4         [-0.0196448767405285, -0.22630784013334612, -0...   \n",
       "5         [0.06427454306598854, -0.04722566274684215, -0...   \n",
       "\n",
       "                                                   clusters  \n",
       "movie id                                                     \n",
       "1         [14.0, 6.0, 8.0, 5.0, 12.0, 13.0, 2.0, 1.0, 6....  \n",
       "2         [4.0, 6.0, 9.0, 1.0, 3.0, 5.0, 5.0, 9.0, 14.0,...  \n",
       "3         [11.0, 11.0, 3.0, 15.0, 9.0, 1.0, 11.0, 14.0, ...  \n",
       "4         [10.0, 15.0, 2.0, 0.0, 9.0, 0.0, 1.0, 6.0, 1.0...  \n",
       "5         [6.0, 11.0, 10.0, 12.0, 12.0, 12.0, 8.0, 9.0, ...  "
      ]
     },
     "execution_count": 11,
     "metadata": {},
     "output_type": "execute_result"
    }
   ],
   "source": [
    "# Taken from the README\n",
    "columns = ['movie id', 'movie title', 'release date', 'video release date', 'IMDb URL', 'unknown', \n",
    "           'Action', 'Adventure', 'Animation', \"Children's\", 'Comedy', 'Crime', 'Documentary', 'Drama', \n",
    "           'Fantasy', 'Film-Noir', 'Horror', 'Musical', 'Mystery', 'Romance', 'Sci-Fi', 'Thriller', 'War', 'Western']\n",
    "features = ['movie title', 'IMDb URL', 'Genre']\n",
    "items = pd.read_csv(\"ml-100k/u.item\", sep='|', header=None, encoding='latin1')\n",
    "items.columns = columns\n",
    "items.set_index('movie id', inplace=True)\n",
    "\n",
    "items['IMDb URL'].fillna(\"\", inplace=True)\n",
    "\n",
    "# Convert the genre columns into a single column\n",
    "items['Genre'] = items.reset_index().melt('movie id', var_name='genre').query('value == 1')\\\n",
    "       .groupby('movie id')['genre']\\\n",
    "       .apply(list)\n",
    "\n",
    "# Only keep the interesting features\n",
    "items = items.loc[:,features]\n",
    "\n",
    "# Add average ratings\n",
    "avg_ratings = ratings.groupby('item id').agg({'rating': 'mean', 'user id': 'count'}).reset_index()\n",
    "avg_ratings.columns = ['movie id', 'avg rating', 'ratings']\n",
    "avg_ratings.set_index('movie id', inplace=True)\n",
    "\n",
    "items = items.merge(avg_ratings, right_index=True, left_index=True)\n",
    "items = items.merge(embeddings_df, right_index=True, left_index=True)\n",
    "print(\"Shape of the items matrix\", items.shape)\n",
    "# items['clusters'] = clusters\n",
    "items.head()"
   ]
  },
  {
   "cell_type": "markdown",
   "metadata": {},
   "source": [
    "## ElasticSearch setup"
   ]
  },
  {
   "cell_type": "code",
   "execution_count": 12,
   "metadata": {},
   "outputs": [],
   "source": [
    "# Create a client that will talk to the elastic search container running alongside this notebook\n",
    "es_client = Elasticsearch(hosts=[{'host': 'elasticsearch', 'port': '9200'}])"
   ]
  },
  {
   "cell_type": "code",
   "execution_count": 13,
   "metadata": {},
   "outputs": [
    {
     "data": {
      "text/plain": [
       "{'acknowledged': True, 'shards_acknowledged': True, 'index': 'movies'}"
      ]
     },
     "execution_count": 13,
     "metadata": {},
     "output_type": "execute_result"
    }
   ],
   "source": [
    "# (re)Create an index for our movies\n",
    "index_definition = {\n",
    "    \"settings\" : {\n",
    "        \"similarity\": {\n",
    "          \"simple_cluster_score\": {\n",
    "            \"type\": \"scripted\",\n",
    "            \"script\": {\n",
    "              \"source\": \"return query.boost * (doc.freq / doc.length) ;\"\n",
    "            }\n",
    "          }\n",
    "        }\n",
    "    },\n",
    "    \"mappings\" : {\n",
    "        \"_source\": {\n",
    "          \"enabled\": True # we store the whole document for debugging purposes\n",
    "        },\n",
    "        \"properties\" : {\n",
    "            \"title\" : { \"type\" : \"text\" },\n",
    "            \"genre\" : { \"type\" : \"text\" },\n",
    "            \"avg_rating\" : { \"type\" : \"float\" },\n",
    "            \"ratings\" : { \"type\" : \"integer\" },\n",
    "            \"imdb_url\" : { \"type\" : \"keyword\" },\n",
    "            \"clusters\": {\n",
    "              \"type\": \"text\",\n",
    "              \"analyzer\": \"keyword\",\n",
    "              \"term_vector\": \"yes\", # this is required for the more_like_this query to work\n",
    "              \"fields\": {\n",
    "                \"simple\": {\n",
    "                  \"type\": \"text\",\n",
    "                  \"analyzer\": \"keyword\",\n",
    "                  \"similarity\": \"simple_cluster_score\",\n",
    "                  \"term_vector\": \"yes\" # this is required for the more_like_this query to work\n",
    "                }\n",
    "              }\n",
    "            }\n",
    "        }\n",
    "    }\n",
    "}\n",
    "\n",
    "es_client.indices.delete(index=\"movies\", ignore_unavailable=True)\n",
    "es_client.indices.create(index=\"movies\", body=index_definition)\n",
    "\n"
   ]
  },
  {
   "cell_type": "code",
   "execution_count": 18,
   "metadata": {},
   "outputs": [],
   "source": [
    "items.head().to_dict(orient='index')\n",
    "\n",
    "def clusters_to_string(clusters):\n",
    "    return [\"x{i}k{k:.0f}\".format(i=i, k=k) for i, k in enumerate(clusters)]\n",
    "\n",
    "def index_movie(es_client, movie_id, title, avg_rating, ratings, genre, imdb_url, clusters):\n",
    "    doc = {\n",
    "        \"title\": title,\n",
    "        \"genre\": genre,\n",
    "        \"avg_rating\": avg_rating,\n",
    "        \"ratings\": ratings,\n",
    "        \"imdb_url\": imdb_url,\n",
    "        \"clusters\": clusters\n",
    "    }\n",
    "    try:\n",
    "        es_client.index(index=\"movies\", body=doc, id=movie_id)\n",
    "    except Exception as e:\n",
    "        print(\"Error while indexing\", doc)\n",
    "        print(e)"
   ]
  },
  {
   "cell_type": "code",
   "execution_count": 19,
   "metadata": {},
   "outputs": [
    {
     "name": "stderr",
     "output_type": "stream",
     "text": [
      "100% (1682 of 1682) |####################| Elapsed Time: 0:00:03 Time:  0:00:03\n"
     ]
    }
   ],
   "source": [
    "# Index all movies in our ElasticSearch \"cluster\"\n",
    "#  in real life this should be done in batches for performance\n",
    "for movie_id, movie in progressbar(items.to_dict(orient='index').items()):\n",
    "    clusters = clusters_to_string(movie['clusters'])\n",
    "    index_movie(es_client, movie_id, title=movie['movie title'], avg_rating=movie['avg rating'], ratings=movie['ratings'],\n",
    "                genre=movie['Genre'], imdb_url=movie['IMDb URL'], clusters=clusters)"
   ]
  },
  {
   "cell_type": "code",
   "execution_count": 20,
   "metadata": {},
   "outputs": [],
   "source": [
    "def search(genre, liked_movies=[], pers_weight=100, mlt_field='clusters.simple', debug=False):\n",
    "    should_clauses = [\n",
    "        {\n",
    "            \"function_score\": {\n",
    "            \"field_value_factor\": {\n",
    "                \"field\": \"avg_rating\",\n",
    "                \"factor\": 1\n",
    "            }\n",
    "        }\n",
    "        }\n",
    "    ]\n",
    "    if len(liked_movies) > 0:\n",
    "        should_clauses += [{\n",
    "          \"more_like_this\": {\n",
    "            \"fields\": [ mlt_field ],\n",
    "            \"like\": [ { \"_index\": 'movies', \"_id\": str(i) } for i in liked_movies ],\n",
    "            \"min_term_freq\": 1,\n",
    "            \"max_query_terms\": 32,\n",
    "            \"min_doc_freq\": 1,\n",
    "            \"boost\": pers_weight\n",
    "          }\n",
    "        }]\n",
    "    query = {\n",
    "        \"explain\": \"true\",\n",
    "        \"query\" : {\n",
    "            \"bool\": {\n",
    "                \"filter\": [{\n",
    "                    \"term\" : {\n",
    "                        \"genre\": genre\n",
    "                    }\n",
    "                }],\n",
    "                \"should\": should_clauses\n",
    "            }\n",
    "        }\n",
    "    }\n",
    "    results =  es_client.search(index=\"movies\", body=query)\n",
    "    if debug:\n",
    "        print(json.dumps(query))\n",
    "    for i, hit in enumerate(results['hits']['hits']):\n",
    "        print(f\"{i} {hit['_source']['title']} (score: {hit['_score']:.2f}\")\n",
    "    "
   ]
  },
  {
   "cell_type": "code",
   "execution_count": 21,
   "metadata": {},
   "outputs": [
    {
     "name": "stdout",
     "output_type": "stream",
     "text": [
      "0 Star Wars (1977) (score: 4.36\n",
      "1 Godfather, The (1972) (score: 4.28\n",
      "2 Raiders of the Lost Ark (1981) (score: 4.25\n",
      "3 Titanic (1997) (score: 4.25\n",
      "4 Empire Strikes Back, The (1980) (score: 4.20\n",
      "5 Boot, Das (1981) (score: 4.20\n",
      "6 Godfather: Part II, The (1974) (score: 4.19\n",
      "7 African Queen, The (1951) (score: 4.18\n",
      "8 Princess Bride, The (1987) (score: 4.17\n",
      "9 Braveheart (1995) (score: 4.15\n"
     ]
    }
   ],
   "source": [
    "search(\"action\")"
   ]
  },
  {
   "cell_type": "code",
   "execution_count": 22,
   "metadata": {},
   "outputs": [
    {
     "name": "stdout",
     "output_type": "stream",
     "text": [
      "{\"explain\": \"true\", \"query\": {\"bool\": {\"filter\": [{\"term\": {\"genre\": \"action\"}}], \"should\": [{\"function_score\": {\"field_value_factor\": {\"field\": \"avg_rating\", \"factor\": 1}}}, {\"more_like_this\": {\"fields\": [\"clusters.simple\"], \"like\": [{\"_index\": \"movies\", \"_id\": \"2\"}], \"min_term_freq\": 1, \"max_query_terms\": 32, \"min_doc_freq\": 1, \"boost\": 100}}]}}}\n",
      "0 Clear and Present Danger (1994) (score: 35.15\n",
      "1 Executive Decision (1996) (score: 34.94\n",
      "2 Independence Day (ID4) (1996) (score: 29.75\n",
      "3 Tomorrow Never Dies (1997) (score: 29.74\n",
      "4 The Deadly Cure (1996) (score: 29.32\n",
      "5 Muppet Treasure Island (1996) (score: 29.08\n",
      "6 Sudden Death (1995) (score: 29.04\n",
      "7 Star Wars (1977) (score: 4.36\n",
      "8 Godfather, The (1972) (score: 4.28\n",
      "9 Raiders of the Lost Ark (1981) (score: 4.25\n"
     ]
    }
   ],
   "source": [
    "search(\"action\", [2], debug=True)"
   ]
  },
  {
   "cell_type": "code",
   "execution_count": 23,
   "metadata": {},
   "outputs": [
    {
     "name": "stdout",
     "output_type": "stream",
     "text": [
      "Animation movies for user 490\n",
      " liked movies: Toy Story (1995), Game, The (1997), Dead Man Walking (1995), Tin Cup (1996), Men in Black (1997)\n",
      "0 Close Shave, A (1995) (score: 4.49\n",
      "1 Wrong Trousers, The (1993) (score: 4.47\n",
      "2 Wallace & Gromit: The Best of Aardman Animation (1996) (score: 4.45\n",
      "3 Faust (1994) (score: 4.20\n",
      "4 Grand Day Out, A (1992) (score: 4.11\n",
      "5 Toy Story (1995) (score: 3.88\n",
      "6 Aladdin (1992) (score: 3.81\n",
      "7 Winnie the Pooh and the Blustery Day (1968) (score: 3.80\n",
      "8 Beauty and the Beast (1991) (score: 3.79\n",
      "9 Lion King, The (1994) (score: 3.78\n",
      "\n",
      "Horror movies for user 814\n",
      " liked movies: Village of the Damned (1995), M (1931), Fargo (1996), Psycho (1960), Shining, The (1980)\n",
      "0 Blob, The (1958) (score: 55.35\n",
      "1 Psycho (1960) (score: 4.10\n",
      "2 Alien (1979) (score: 4.03\n",
      "3 Nightwatch (1997) (score: 4.00\n",
      "4 Young Frankenstein (1974) (score: 3.94\n",
      "5 Braindead (1992) (score: 3.86\n",
      "6 Shining, The (1980) (score: 3.83\n",
      "7 Birds, The (1963) (score: 3.81\n",
      "8 Jaws (1975) (score: 3.77\n",
      "9 Night Flier (1997) (score: 3.71\n",
      "\n",
      "Action movies for user 224\n",
      " liked movies: Batman Forever (1995), Devil's Own, The (1997), Brothers McMullen, The (1995), Firm, The (1993), Forrest Gump (1994)\n",
      "0 Braveheart (1995) (score: 51.52\n",
      "1 Star Wars (1977) (score: 4.36\n",
      "2 Godfather, The (1972) (score: 4.28\n",
      "3 Raiders of the Lost Ark (1981) (score: 4.25\n",
      "4 Titanic (1997) (score: 4.25\n",
      "5 Empire Strikes Back, The (1980) (score: 4.20\n",
      "6 Boot, Das (1981) (score: 4.20\n",
      "7 Godfather: Part II, The (1974) (score: 4.19\n",
      "8 African Queen, The (1951) (score: 4.18\n",
      "9 Princess Bride, The (1987) (score: 4.17\n",
      "\n",
      "Action movies for user 337\n",
      " liked movies: Crying Game, The (1992), Men in Black (1997), Star Trek IV: The Voyage Home (1986), Escape to Witch Mountain (1975), Ransom (1996)\n",
      "0 Star Wars (1977) (score: 4.36\n",
      "1 Godfather, The (1972) (score: 4.28\n",
      "2 Raiders of the Lost Ark (1981) (score: 4.25\n",
      "3 Titanic (1997) (score: 4.25\n",
      "4 Empire Strikes Back, The (1980) (score: 4.20\n",
      "5 Boot, Das (1981) (score: 4.20\n",
      "6 Godfather: Part II, The (1974) (score: 4.19\n",
      "7 African Queen, The (1951) (score: 4.18\n",
      "8 Princess Bride, The (1987) (score: 4.17\n",
      "9 Braveheart (1995) (score: 4.15\n",
      "\n",
      "Comedy movies for user 718\n",
      " liked movies: Father of the Bride Part II (1995), Glimmer Man, The (1996), Star Trek: First Contact (1996), Air Force One (1997), Truth About Cats & Dogs, The (1996)\n",
      "0 Santa with Muscles (1996) (score: 5.00\n",
      "1 Close Shave, A (1995) (score: 4.49\n",
      "2 Wrong Trousers, The (1993) (score: 4.47\n",
      "3 North by Northwest (1959) (score: 4.28\n",
      "4 Shall We Dance? (1996) (score: 4.26\n",
      "5 As Good As It Gets (1997) (score: 4.20\n",
      "6 Cinema Paradiso (1988) (score: 4.17\n",
      "7 Princess Bride, The (1987) (score: 4.17\n",
      "8 Waiting for Guffman (1996) (score: 4.13\n",
      "9 A Chef in Love (1996) (score: 4.12\n",
      "\n",
      "Drama movies for user 480\n",
      " liked movies: Henry V (1989), Brazil (1985), Alien (1979), Unforgiven (1992), Empire Strikes Back, The (1980)\n",
      "0 They Made Me a Criminal (1939) (score: 5.00\n",
      "1 Prefontaine (1997) (score: 5.00\n",
      "2 Saint of Fort Washington, The (1993) (score: 5.00\n",
      "3 Aiqing wansui (1994) (score: 5.00\n",
      "4 Someone Else's America (1995) (score: 5.00\n",
      "5 Entertaining Angels: The Dorothy Day Story (1996) (score: 5.00\n",
      "6 Pather Panchali (1955) (score: 4.62\n",
      "7 Anna (1996) (score: 4.50\n",
      "8 Some Mother's Son (1996) (score: 4.50\n",
      "9 Schindler's List (1993) (score: 4.47\n",
      "\n",
      "Drama movies for user 742\n",
      " liked movies: Contact (1997), Mother (1996), Return of the Jedi (1983), People vs. Larry Flynt, The (1996), Private Parts (1997)\n",
      "0 Empire Strikes Back, The (1980) (score: 56.84\n",
      "1 They Made Me a Criminal (1939) (score: 5.00\n",
      "2 Prefontaine (1997) (score: 5.00\n",
      "3 Saint of Fort Washington, The (1993) (score: 5.00\n",
      "4 Aiqing wansui (1994) (score: 5.00\n",
      "5 Someone Else's America (1995) (score: 5.00\n",
      "6 Entertaining Angels: The Dorothy Day Story (1996) (score: 5.00\n",
      "7 Pather Panchali (1955) (score: 4.62\n",
      "8 Anna (1996) (score: 4.50\n",
      "9 Some Mother's Son (1996) (score: 4.50\n",
      "\n",
      "Mystery movies for user 47\n",
      " liked movies: Lost Highway (1997), Kiss Me, Guido (1997), Boogie Nights (1997), Mother (1996), L.A. Confidential (1997)\n",
      "0 Rear Window (1954) (score: 4.39\n",
      "1 Third Man, The (1949) (score: 4.33\n",
      "2 Vertigo (1958) (score: 4.25\n",
      "3 Maltese Falcon, The (1941) (score: 4.21\n",
      "4 Amadeus (1984) (score: 4.16\n",
      "5 L.A. Confidential (1997) (score: 4.16\n",
      "6 Thin Man, The (1934) (score: 4.15\n",
      "7 Chinatown (1974) (score: 4.14\n",
      "8 Laura (1944) (score: 4.10\n",
      "9 Arsenic and Old Lace (1944) (score: 4.08\n",
      "\n",
      "Action movies for user 382\n",
      " liked movies: Godfather, The (1972), Shine (1996), Leaving Las Vegas (1995), Delicatessen (1991), Dr. Strangelove or: How I Learned to Stop Worrying and Love the Bomb (1963)\n",
      "0 Star Wars (1977) (score: 4.36\n",
      "1 Godfather, The (1972) (score: 4.28\n",
      "2 Raiders of the Lost Ark (1981) (score: 4.25\n",
      "3 Titanic (1997) (score: 4.25\n",
      "4 Empire Strikes Back, The (1980) (score: 4.20\n",
      "5 Boot, Das (1981) (score: 4.20\n",
      "6 Godfather: Part II, The (1974) (score: 4.19\n",
      "7 African Queen, The (1951) (score: 4.18\n",
      "8 Princess Bride, The (1987) (score: 4.17\n",
      "9 Braveheart (1995) (score: 4.15\n",
      "\n",
      "Drama movies for user 289\n",
      " liked movies: Time to Kill, A (1996), Days of Thunder (1990), Twelve Monkeys (1995), Toy Story (1995), One Fine Day (1996)\n",
      "0 They Made Me a Criminal (1939) (score: 5.00\n",
      "1 Prefontaine (1997) (score: 5.00\n",
      "2 Saint of Fort Washington, The (1993) (score: 5.00\n",
      "3 Aiqing wansui (1994) (score: 5.00\n",
      "4 Someone Else's America (1995) (score: 5.00\n",
      "5 Entertaining Angels: The Dorothy Day Story (1996) (score: 5.00\n",
      "6 Pather Panchali (1955) (score: 4.62\n",
      "7 Anna (1996) (score: 4.50\n",
      "8 Some Mother's Son (1996) (score: 4.50\n",
      "9 Schindler's List (1993) (score: 4.47\n",
      "\n"
     ]
    }
   ],
   "source": [
    "for user_id, row in ratings[ratings.rating >= 3].groupby('user id').agg({'item id': list}).sample(10).iterrows():\n",
    "    selected_movies = row['item id'][:5] # pick 10 movies\n",
    "    titles = items.loc[selected_movies]['movie title'].values\n",
    "    genre = items.loc[selected_movies]['Genre'].values[0][0]\n",
    "    print(f\"{genre} movies for user {user_id}\")\n",
    "    print(\" liked movies:\", \", \".join(titles))\n",
    "    search(genre.lower(), selected_movies)\n",
    "    print()\n",
    "    \n",
    "    "
   ]
  },
  {
   "cell_type": "code",
   "execution_count": null,
   "metadata": {},
   "outputs": [],
   "source": []
  }
 ],
 "metadata": {
  "kernelspec": {
   "display_name": "Python 3",
   "language": "python",
   "name": "python3"
  },
  "language_info": {
   "codemirror_mode": {
    "name": "ipython",
    "version": 3
   },
   "file_extension": ".py",
   "mimetype": "text/x-python",
   "name": "python",
   "nbconvert_exporter": "python",
   "pygments_lexer": "ipython3",
   "version": "3.8.3"
  }
 },
 "nbformat": 4,
 "nbformat_minor": 4
}
